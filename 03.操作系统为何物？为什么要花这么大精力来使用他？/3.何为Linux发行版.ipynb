{
 "cells": [
  {
   "cell_type": "markdown",
   "metadata": {
    "collapsed": true
   },
   "source": [
    "# Linux内核与GNU/Linux发行版\n",
    "\n",
    "GNU为何物，百度百科给出解释：\n",
    "\n",
    "GNU是一个自由的操作系统，其内容软件完全以GPL方式发布。这个操作系统是GNU计划的主要目标，名称来自GNU's Not Unix!的递归缩写，因为GNU的设计类似Unix，但它不包含具著作权的Unix代码。GNU的创始人，理查德·马修·斯托曼，将GNU视为“达成社会目的技术方法”。\n",
    "\n",
    "由于UNIX的商业化，将自己封闭起来；此时，理查德·马修·斯托曼不爽了，建立了GNU组织，经多年的努力，处理操作系统的内核外，像大名鼎鼎的gcc、gdb、emacs(编辑器，据传闻世界只有三种编辑器:emacs、vi、其他编辑器)都是GNU的作品。但唯独缺少好的操作系统内核，1990年还是学生的Linus Torvalds(林哥)，贡献出了自己做的一个内核，从此一发不可收拾，全世界的黑客（这里的黑客是hacker的本意，是热爱计算机、水平超高的计算机专家；cracker才是公众所有的窃取、偷窥为目的不良计算机使用者）共同完善这个内核，才有了今天的linux内核。linus是领袖，linux是全世界智慧的结晶。\n",
    "\n",
    "GNU/Linux发行版，是基于Linux内核的类Unix操作系统。Linux发行版通常包含了包括桌面环境、办公包、媒体播放器、数据库等应用软件。就是在linux内核之上，包含了大量的软件和工具包，让用户可以使用的操作系统。\n",
    "\n",
    "常见的GNU/Linux发行版:Ubuntu、RedHat、Debian、Fedora、CentOS等。\n",
    "\n",
    "咱们本套教程用的raspbian操作系统是基于Debian。这是他的介绍：\n",
    "\n",
    "Raspbian 是基于 Debian GNU/Linux 的免费操作系统，它面向 Raspberry Pi 硬件（ armhf 处理器架构）而做了优化。Raspbian 带有 35000 多个软件包或预编译软件，它们按优美的格式打包从而便于在 Raspberry Pi 上安装。该发行的首个创建完成于2012年六月，但它获得了持续活跃的开发，并且重点在于提高尽可能多的 Debian 软件包的稳定性及性能。虽然 Debian 为 arm 架构提供一份发行，但是它只兼容 Raspberry Pi 上之后的版本（即 ARMv7-A 中央处理器及更高版本，相比于 Raspberry Pi 的 ARMv6 中央处理器）"
   ]
  },
  {
   "cell_type": "code",
   "execution_count": null,
   "metadata": {},
   "outputs": [],
   "source": []
  }
 ],
 "metadata": {
  "kernelspec": {
   "display_name": "Python 3",
   "language": "python",
   "name": "python3"
  },
  "language_info": {
   "codemirror_mode": {
    "name": "ipython",
    "version": 3
   },
   "file_extension": ".py",
   "mimetype": "text/x-python",
   "name": "python",
   "nbconvert_exporter": "python",
   "pygments_lexer": "ipython3",
   "version": "3.7.3"
  }
 },
 "nbformat": 4,
 "nbformat_minor": 1
}
