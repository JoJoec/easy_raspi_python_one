{
 "cells": [
  {
   "cell_type": "markdown",
   "metadata": {
    "collapsed": true
   },
   "source": [
    "# git+gitee软件过程管理工作流程\n",
    "关于git+gitee的软件过程管理有很多种使用方式，我介绍下我一直在使用的工作流程。这里介绍我工作流程的前半部分，简单的软件过程管理；后半部分，软件过程的三库管理(开发库、受控库、产皮库)将在《动手学树莓派－python下篇》中介绍。\n",
    "\n",
    "当前课程，主要介绍下述内容：\n",
    "\n",
    "(1)在gitee上建立软件库。\n",
    "\n",
    "(2)在本地下载(克隆)gitee上的软件库。\n",
    "\n",
    "(3)在本地进行软件开发，并进行软件开发过程管理。\n",
    "\n",
    "(4)将本地软件开发过程管理同步到gitee上，用于备份。\n",
    "\n",
    "(5)最新修改不合适，进行版本回退。\n",
    "\n",
    "通过上述步骤，你理解了git的基本使用方式，gitee软件托管的意义，可以使用git进行初步软件管理了，想获取更多git使用，请参见廖雪峰老师的git教程：https://www.liaoxuefeng.com/wiki/896043488029600　。"
   ]
  },
  {
   "cell_type": "markdown",
   "metadata": {},
   "source": [
    "# 使用到的指令\n",
    "git clone 填写自己的仓库地址　　　　　　　　　　　　　  //从远端克隆自己新建的软件工程\n",
    "\n",
    "git push origin 填写自己开发库名称，输入账户和密码　　　//即可将开发库推送到远程仓库\n",
    "\n",
    "git diff                                         //查看本地开发中修改的信息\n",
    "\n",
    "git status                                       //查看当前新增的文件等\n",
    "\n",
    "git add -A                                       //将修改提交到暂存库中\n",
    "\n",
    "git commit -m \"添加本次修改的备注\"　　　　　　　　　　　//将暂存库中的修改信息提交库中\n",
    "\n",
    "git push origin master                        　  //将修改提交的远程库中"
   ]
  },
  {
   "cell_type": "code",
   "execution_count": null,
   "metadata": {},
   "outputs": [],
   "source": []
  }
 ],
 "metadata": {
  "kernelspec": {
   "display_name": "Python 3",
   "language": "python",
   "name": "python3"
  },
  "language_info": {
   "codemirror_mode": {
    "name": "ipython",
    "version": 3
   },
   "file_extension": ".py",
   "mimetype": "text/x-python",
   "name": "python",
   "nbconvert_exporter": "python",
   "pygments_lexer": "ipython3",
   "version": "3.7.3"
  }
 },
 "nbformat": 4,
 "nbformat_minor": 1
}
